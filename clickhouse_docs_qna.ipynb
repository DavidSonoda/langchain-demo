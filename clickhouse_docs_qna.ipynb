{
 "cells": [
  {
   "cell_type": "markdown",
   "metadata": {},
   "source": [
    "Clickhouse documentation chat"
   ]
  },
  {
   "attachments": {},
   "cell_type": "markdown",
   "metadata": {},
   "source": [
    "Iterate all .md files in the directory recursively: /Users/brainco/BrainCo/ML/clickhouse-docs"
   ]
  },
  {
   "cell_type": "code",
   "execution_count": 30,
   "metadata": {},
   "outputs": [
    {
     "name": "stdout",
     "output_type": "stream",
     "text": [
      "Number of .md files: 1717\n"
     ]
    }
   ],
   "source": [
    "import os\n",
    "import fnmatch\n",
    "\n",
    "dir_path = '/Users/brainco/BrainCo/ML/clickhouse/docs' # replace with the actual path to the directory containing .md files\n",
    "md_files = []\n",
    "for subdir, dirs, files in os.walk(dir_path):\n",
    "    for file in files:\n",
    "        if fnmatch.fnmatch(file, '*.md'):\n",
    "            filepath = os.path.join(subdir, file)\n",
    "            md_files.append(filepath)\n",
    "\n",
    "print(f'Number of .md files: {len(md_files)}')"
   ]
  },
  {
   "cell_type": "markdown",
   "metadata": {},
   "source": [
    "Load all markdown files using langchain's Makrdown loader and split them into document objects using `MarkdownTextSplitter`."
   ]
  },
  {
   "cell_type": "code",
   "execution_count": 31,
   "metadata": {},
   "outputs": [
    {
     "name": "stdout",
     "output_type": "stream",
     "text": [
      "Number of documents: 11246\n"
     ]
    }
   ],
   "source": [
    "from langchain.document_loaders import UnstructuredMarkdownLoader\n",
    "from langchain.text_splitter import MarkdownTextSplitter\n",
    "\n",
    "\n",
    "splitter = MarkdownTextSplitter(chunk_size=1000, chunk_overlap=150)\n",
    "\n",
    "# Load the .md files into a list of Document objects\n",
    "# All docs\n",
    "all_docs = []\n",
    "for md_file in md_files:\n",
    "    loader = UnstructuredMarkdownLoader(md_file)\n",
    "    data = loader.load()\n",
    "    docs = splitter.split_documents(data)\n",
    "    # Append every doc in docs to all_docs\n",
    "    for doc in docs:\n",
    "        all_docs.append(doc)\n",
    "\n",
    "print(f'Number of documents: {len(all_docs)}')\n"
   ]
  },
  {
   "cell_type": "code",
   "execution_count": null,
   "metadata": {
    "vscode": {
     "languageId": "shellscript"
    }
   },
   "outputs": [],
   "source": [
    "pip3 install pinecone-client"
   ]
  },
  {
   "attachments": {},
   "cell_type": "markdown",
   "metadata": {},
   "source": [
    "Load the documents into Pinecone using OpenAI's embedding model, you only need to do this once."
   ]
  },
  {
   "cell_type": "code",
   "execution_count": null,
   "metadata": {},
   "outputs": [],
   "source": [
    "from langchain.vectorstores import Pinecone\n",
    "from langchain.embeddings.openai import OpenAIEmbeddings\n",
    "import pinecone\n",
    "import os\n",
    "\n",
    "# initialize pinecone\n",
    "pinecone.init(\n",
    "    api_key=os.environ['PINECONE_API_KEY'],  # find at app.pinecone.io\n",
    "    environment=\"us-west1-gcp-free\"  # next to api key in console\n",
    ")\n",
    "\n",
    "index_name = \"clickhouse-docs\"\n",
    "embeddings = OpenAIEmbeddings()\n",
    "docsearch = Pinecone.from_documents(all_docs, embeddings, index_name=index_name)\n",
    "\n",
    "\n",
    "# if you already have an index, you can load it like this\n",
    "# docsearch = Pinecone.from_existing_index(index_name, embeddings)\n",
    "\n",
    "# query = \"arrayDifference()\"\n",
    "# docs = docsearch.similarity_search(query)"
   ]
  },
  {
   "cell_type": "markdown",
   "metadata": {},
   "source": [
    "Testing the pinecone query."
   ]
  },
  {
   "cell_type": "code",
   "execution_count": 33,
   "metadata": {},
   "outputs": [
    {
     "name": "stdout",
     "output_type": "stream",
     "text": [
      "[Document(page_content=\"The arrayJoin function affects all sections of the query, including the WHERE section. Notice the result 2, even though the subquery returned 1 row.\\n\\nExample:\\n\\nsql\\nSELECT sum(1) AS impressions\\nFROM\\n(\\n    SELECT ['Istanbul', 'Berlin', 'Bobruisk'] AS cities\\n)\\nWHERE arrayJoin(cities) IN ['Istanbul', 'Berlin'];\\n\\ntext\\n┌─impressions─┐\\n│           2 │\\n└─────────────┘\\n\\nA query can use multiple arrayJoin functions. In this case, the transformation is performed multiple times and the rows are multiplied.\\n\\nExample:\\n\\nsql\\nSELECT\\n    sum(1) AS impressions,\\n    arrayJoin(cities) AS city,\\n    arrayJoin(browsers) AS browser\\nFROM\\n(\\n    SELECT\\n        ['Istanbul', 'Berlin', 'Bobruisk'] AS cities,\\n        ['Firefox', 'Chrome', 'Chrome'] AS browsers\\n)\\nGROUP BY\\n    2,\\n    3\", metadata={'source': '/Users/brainco/BrainCo/ML/clickhouse/docs/en/sql-reference/functions/array-join.md'}), Document(page_content='slug: /en/sql-reference/statements/select/array-join\\nsidebar_label: ARRAY JOIN\\n\\nARRAY JOIN Clause\\n\\nIt is a common operation for tables that contain an array column to produce a new table that has a column with each individual array element of that initial column, while values of other columns are duplicated. This is the basic case of what ARRAY JOIN clause does.\\n\\nIts name comes from the fact that it can be looked at as executing JOIN with an array or nested data structure. The intent is similar to the arrayJoin function, but the clause functionality is broader.\\n\\nSyntax:\\n\\nsql\\nSELECT <expr_list>\\nFROM <left_subquery>\\n[LEFT] ARRAY JOIN <array>\\n[WHERE|PREWHERE <expr>]\\n...\\n\\nYou can specify only one ARRAY JOIN clause in a SELECT query.\\n\\nSupported types of ARRAY JOIN are listed below:\\n\\nARRAY JOIN - In base case, empty arrays are not included in the result of JOIN.', metadata={'source': '/Users/brainco/BrainCo/ML/clickhouse/docs/en/sql-reference/statements/select/array-join.md'}), Document(page_content='text\\n┌─s───────────┬─arr─────┐\\n│ Hello       │ [1,2]   │\\n│ World       │ [3,4,5] │\\n│ Goodbye     │ []      │\\n└─────────────┴─────────┘\\n\\nThe example below uses the ARRAY JOIN clause:\\n\\nsql\\nSELECT s, arr\\nFROM arrays_test\\nARRAY JOIN arr;\\n\\ntext\\n┌─s─────┬─arr─┐\\n│ Hello │   1 │\\n│ Hello │   2 │\\n│ World │   3 │\\n│ World │   4 │\\n│ World │   5 │\\n└───────┴─────┘\\n\\nThe next example uses the LEFT ARRAY JOIN clause:\\n\\nsql\\nSELECT s, arr\\nFROM arrays_test\\nLEFT ARRAY JOIN arr;\\n\\ntext\\n┌─s───────────┬─arr─┐\\n│ Hello       │   1 │\\n│ Hello       │   2 │\\n│ World       │   3 │\\n│ World       │   4 │\\n│ World       │   5 │\\n│ Goodbye     │   0 │\\n└─────────────┴─────┘\\n\\nUsing Aliases\\n\\nAn alias can be specified for an array in the ARRAY JOIN clause. In this case, an array item can be accessed by this alias, but the array itself is accessed by the original name. Example:\\n\\nsql\\nSELECT s, arr, a\\nFROM arrays_test\\nARRAY JOIN arr AS a;', metadata={'source': '/Users/brainco/BrainCo/ML/clickhouse/docs/en/sql-reference/statements/select/array-join.md'}), Document(page_content=\"slug: /en/sql-reference/functions/array-join\\nsidebar_position: 15\\nsidebar_label: arrayJoin\\n\\narrayJoin function\\n\\nThis is a very unusual function.\\n\\nNormal functions do not change a set of rows, but just change the values in each row (map).\\nAggregate functions compress a set of rows (fold or reduce).\\nThe arrayJoin function takes each row and generates a set of rows (unfold).\\n\\nThis function takes an array as an argument, and propagates the source row to multiple rows for the number of elements in the array.\\nAll the values in columns are simply copied, except the values in the column where this function is applied; it is replaced with the corresponding array value.\\n\\nExample:\\n\\nsql\\nSELECT arrayJoin([1, 2, 3] AS src) AS dst, 'Hello', src\\n\\ntext\\n┌─dst─┬─\\\\'Hello\\\\'─┬─src─────┐\\n│   1 │ Hello     │ [1,2,3] │\\n│   2 │ Hello     │ [1,2,3] │\\n│   3 │ Hello     │ [1,2,3] │\\n└─────┴───────────┴─────────┘\", metadata={'source': '/Users/brainco/BrainCo/ML/clickhouse/docs/en/sql-reference/functions/array-join.md'})]\n"
     ]
    }
   ],
   "source": [
    "query = \"array join usage\"\n",
    "docs = docsearch.similarity_search(query)\n",
    "print(docs)"
   ]
  },
  {
   "attachments": {},
   "cell_type": "markdown",
   "metadata": {},
   "source": [
    "This is a simple demonstration of querying the language model of our own choice with the custom knowledge base we built previously. \n",
    "- Firstly, establish the connection to pinecone.\n",
    "- Then using langchain's `load_qa_with_sources_chain()` to ask the knowledge base a question."
   ]
  },
  {
   "cell_type": "code",
   "execution_count": 12,
   "metadata": {},
   "outputs": [
    {
     "name": "stdout",
     "output_type": "stream",
     "text": [
      "{'question': 'How to use arrayJoin(), please give an code example', 'chat_history': [], 'answer': \" arrayJoin() takes an array as an argument, and propagates the source row to multiple rows for the number of elements in the array. All the values in columns are simply copied, except the values in the column where this function is applied; it is replaced with the corresponding array value.\\n\\nExample: \\n\\nsql\\nSELECT arrayJoin([1, 2, 3] AS src) AS dst, 'Hello', src\\nSOURCES:\\n/Users/brainco/BrainCo/ML/clickhouse/docs/en/sql-reference/functions/array-join.md\\n/Users/brainco/BrainCo/ML/clickhouse/docs/zh/sql-reference/functions/array-join.md\\n/Users/brainco/BrainCo/ML/clickhouse/docs/zh/sql-reference/statements/select/array-join.md\"}\n"
     ]
    }
   ],
   "source": [
    "from langchain.vectorstores import Pinecone\n",
    "from langchain.chains.llm import LLMChain\n",
    "from langchain.chains.conversational_retrieval.prompts import CONDENSE_QUESTION_PROMPT\n",
    "from langchain.chains.qa_with_sources import load_qa_with_sources_chain\n",
    "from langchain.memory import ConversationBufferMemory\n",
    "from langchain.chains.conversational_retrieval.prompts import CONDENSE_QUESTION_PROMPT\n",
    "from langchain.chains import ConversationalRetrievalChain\n",
    "from langchain.llms import OpenAI\n",
    "from langchain.chat_models import ChatOpenAI\n",
    "from langchain.embeddings.openai import OpenAIEmbeddings\n",
    "from langchain.prompts.prompt import PromptTemplate\n",
    "import pinecone\n",
    "import os\n",
    "\n",
    "# Replace with your own OpenAI API key\n",
    "os.environ['OPENAI_API_KEY']='sk-xxx'\n",
    "os.environ['PINECONE_API_KEY'] = 'xxx'\n",
    "\n",
    "\n",
    "# initialize pinecone\n",
    "pinecone.init(\n",
    "    api_key=os.environ['PINECONE_API_KEY'],  # find at app.pinecone.io\n",
    "    environment=\"us-west1-gcp-free\"  # next to api key in console\n",
    ")\n",
    "\n",
    "\n",
    "index_name = \"clickhouse-docs\"\n",
    "docsearch = Pinecone.from_existing_index(embedding=OpenAIEmbeddings(), index_name=index_name)\n",
    "\n",
    "# llm = OpenAI(model_name='gpt-3.5-turbo', temperature=0.7)\n",
    "\n",
    "_template = \"\"\"Given the following conversation and a follow up question, rephrase the follow up question to be a standalone question.\n",
    "When your response contains code, format them into a markdown code block.\n",
    "\n",
    "Chat History:\n",
    "{chat_history}\n",
    "Follow Up Input: {question}\n",
    "Standalone question:\"\"\"\n",
    "\n",
    "llm = OpenAI()\n",
    "\n",
    "question_generator = LLMChain(llm=llm, prompt=PromptTemplate.from_template(_template))\n",
    "\n",
    "# memory = ConversationBufferMemory(memory_key=\"chat_history\", return_messages=True)\n",
    "doc_chain = load_qa_with_sources_chain(llm, chain_type=\"map_reduce\")\n",
    "\n",
    "qa_with_source = ConversationalRetrievalChain(\n",
    "    retriever=docsearch.as_retriever(),\n",
    "    question_generator=question_generator,\n",
    "    combine_docs_chain=doc_chain\n",
    ")\n",
    "\n",
    "chat_history = []\n",
    "query3 = \"How to use arrayJoin(), please give an code example\"\n",
    "result = qa_with_source({'question': query3, 'chat_history': chat_history})\n",
    "print(result)\n"
   ]
  },
  {
   "cell_type": "code",
   "execution_count": 13,
   "metadata": {},
   "outputs": [
    {
     "name": "stdout",
     "output_type": "stream",
     "text": [
      "{'question': 'How to use retention(), what can it potentially do?', 'chat_history': [], 'answer': ' retention() is an expression in ClickHouse that returns a UInt8 result (1 or 0) which indicates whether a condition was met for an event or not.\\nSOURCES: /Users/brainco/BrainCo/ML/clickhouse/docs/en/sql-reference/aggregate-functions/parametric-functions.md'}\n"
     ]
    }
   ],
   "source": [
    "query3 = \"How to use retention(), what can it potentially do?\"\n",
    "result = qa_with_source({'question': query3, 'chat_history': chat_history})\n",
    "print(result)"
   ]
  }
 ],
 "metadata": {
  "kernelspec": {
   "display_name": "venv",
   "language": "python",
   "name": "python3"
  },
  "language_info": {
   "codemirror_mode": {
    "name": "ipython",
    "version": 3
   },
   "file_extension": ".py",
   "mimetype": "text/x-python",
   "name": "python",
   "nbconvert_exporter": "python",
   "pygments_lexer": "ipython3",
   "version": "3.8.7"
  },
  "orig_nbformat": 4
 },
 "nbformat": 4,
 "nbformat_minor": 2
}

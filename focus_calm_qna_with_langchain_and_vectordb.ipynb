{
 "cells": [
  {
   "cell_type": "markdown",
   "id": "fc76df52",
   "metadata": {},
   "source": [
    "## 1. FC Content Data Query example using langchain + Vector DB"
   ]
  },
  {
   "cell_type": "markdown",
   "id": "c9158a0e",
   "metadata": {},
   "source": [
    "In this example, I'll show you a simple example of querying FC data using FC API along with langchain and Vector DB."
   ]
  },
  {
   "cell_type": "markdown",
   "id": "f2f3640e",
   "metadata": {},
   "source": [
    "### 1.1 Download the table and load the documents"
   ]
  },
  {
   "cell_type": "markdown",
   "id": "3e107146",
   "metadata": {},
   "source": [
    "#### a. Install the psycopg2 library if necessary"
   ]
  },
  {
   "cell_type": "code",
   "execution_count": 3,
   "id": "8e48a32d",
   "metadata": {},
   "outputs": [
    {
     "name": "stdout",
     "output_type": "stream",
     "text": [
      "Collecting psycopg2\n",
      "  Downloading psycopg2-2.9.6.tar.gz (383 kB)\n",
      "\u001b[2K     \u001b[38;2;114;156;31m━━━━━━━━━━━━━━━━━━━━━━━━━━━━━━━━━━━━━━━\u001b[0m \u001b[32m384.0/384.0 kB\u001b[0m \u001b[31m3.1 MB/s\u001b[0m eta \u001b[36m0:00:00\u001b[0m[36m0:00:01\u001b[0mm eta \u001b[36m0:00:01\u001b[0m\n",
      "\u001b[?25h  Preparing metadata (setup.py) ... \u001b[?25ldone\n",
      "\u001b[?25hBuilding wheels for collected packages: psycopg2\n",
      "  Building wheel for psycopg2 (setup.py) ... \u001b[?25ldone\n",
      "\u001b[?25h  Created wheel for psycopg2: filename=psycopg2-2.9.6-cp38-cp38-macosx_10_15_x86_64.whl size=143470 sha256=5d4c02f2572939e8bace104df1f5b9577a7f45476030a0651e6e2719e8cb1fc5\n",
      "  Stored in directory: /Users/brainco/Library/Caches/pip/wheels/b4/01/c3/2fb9798be76b52c98b2ad9e6f3101b3dcb5286e7901f754e87\n",
      "Successfully built psycopg2\n",
      "Installing collected packages: psycopg2\n",
      "Successfully installed psycopg2-2.9.6\n",
      "\n",
      "\u001b[1m[\u001b[0m\u001b[34;49mnotice\u001b[0m\u001b[1;39;49m]\u001b[0m\u001b[39;49m A new release of pip is available: \u001b[0m\u001b[31;49m23.0.1\u001b[0m\u001b[39;49m -> \u001b[0m\u001b[32;49m23.1.1\u001b[0m\n",
      "\u001b[1m[\u001b[0m\u001b[34;49mnotice\u001b[0m\u001b[1;39;49m]\u001b[0m\u001b[39;49m To update, run: \u001b[0m\u001b[32;49mpython -m pip install --upgrade pip\u001b[0m\n",
      "Note: you may need to restart the kernel to use updated packages.\n"
     ]
    }
   ],
   "source": [
    "pip install psycopg2"
   ]
  },
  {
   "cell_type": "markdown",
   "id": "0f168776",
   "metadata": {},
   "source": [
    "#### b. Download the FocusCalm 3.0 search index table as csv"
   ]
  },
  {
   "cell_type": "code",
   "execution_count": 1,
   "id": "d798b504",
   "metadata": {},
   "outputs": [
    {
     "name": "stdout",
     "output_type": "stream",
     "text": [
      "Table 'tb_v3_content_search' has been downloaded as 'tb_v3_content_search.csv'.\n"
     ]
    }
   ],
   "source": [
    "import psycopg2\n",
    "import csv\n",
    "\n",
    "# Establish a connection to the database\n",
    "db_config = {\n",
    "    \"host\":\"localhost\",\n",
    "    \"port\":5432,\n",
    "    \"database\":\"focus_calm\",\n",
    "    \"user\":\"brainco\",\n",
    "    \"password\":\"password\"\n",
    "}\n",
    "\n",
    "# Connect to the PostgreSQL database\n",
    "connection = psycopg2.connect(**db_config)\n",
    "cursor = connection.cursor()\n",
    "\n",
    "# Replace 'your_table_name' with the name of the table you want to download\n",
    "table_name = \"tb_v3_content_search\"\n",
    "\n",
    "# Fetch the column names\n",
    "cursor.execute(f\"SELECT column_name FROM information_schema.columns WHERE table_name='{table_name}';\")\n",
    "column_names = [row[0] for row in cursor.fetchall()]\n",
    "\n",
    "# Fetch the table data\n",
    "cursor.execute(f\"SELECT * FROM {table_name};\")\n",
    "table_data = cursor.fetchall()\n",
    "\n",
    "# Save the data as a CSV file\n",
    "csv_filename = f\"{table_name}.csv\"\n",
    "with open(csv_filename, 'w', newline='') as csvfile:\n",
    "    csv_writer = csv.writer(csvfile)\n",
    "    csv_writer.writerow(column_names)\n",
    "    csv_writer.writerows(table_data)\n",
    "\n",
    "# Close the database connection\n",
    "cursor.close()\n",
    "connection.close()\n",
    "\n",
    "print(f\"Table '{table_name}' has been downloaded as '{csv_filename}'.\")\n"
   ]
  },
  {
   "cell_type": "markdown",
   "id": "9996f4d3",
   "metadata": {},
   "source": [
    "#### c. Load the csv document using CSVLoader\n",
    "See [here](https://python.langchain.com/en/latest/modules/indexes/document_loaders/examples/csv.html) for the detailed usage of the `CSVLoader`"
   ]
  },
  {
   "cell_type": "code",
   "execution_count": 2,
   "id": "c3f0e6b7",
   "metadata": {},
   "outputs": [],
   "source": [
    "from langchain.document_loaders.csv_loader import CSVLoader"
   ]
  },
  {
   "cell_type": "code",
   "execution_count": 3,
   "id": "eb7e4e42",
   "metadata": {},
   "outputs": [
    {
     "name": "stdout",
     "output_type": "stream",
     "text": [
      "tb_v3_content_search\n"
     ]
    }
   ],
   "source": [
    "print(table_name)\n",
    "loader = CSVLoader(file_path=f'./{table_name}.csv', source_column=\"internal_id\")\n",
    "\n",
    "data = loader.load()"
   ]
  },
  {
   "cell_type": "code",
   "execution_count": 4,
   "id": "266d741f",
   "metadata": {
    "scrolled": false
   },
   "outputs": [],
   "source": [
    "%%capture\n",
    "print(data);"
   ]
  },
  {
   "cell_type": "markdown",
   "id": "8d86a583",
   "metadata": {},
   "source": [
    "### 1.2 Split the documents and load into vectore DB"
   ]
  },
  {
   "cell_type": "markdown",
   "id": "c8dd95c9",
   "metadata": {},
   "source": [
    "#### a. Split the documents using recommended text spliter"
   ]
  },
  {
   "cell_type": "code",
   "execution_count": 5,
   "id": "67484a05",
   "metadata": {},
   "outputs": [],
   "source": [
    "from langchain.text_splitter import RecursiveCharacterTextSplitter\n",
    "from langchain.vectorstores import FAISS\n",
    "from langchain.embeddings import OpenAIEmbeddings\n",
    "from langchain.chains import RetrievalQA\n",
    "from langchain import OpenAI\n",
    "from langchain.chat_models import ChatOpenAI\n",
    "import os"
   ]
  },
  {
   "cell_type": "code",
   "execution_count": 9,
   "id": "50648b77",
   "metadata": {},
   "outputs": [],
   "source": [
    "text_splitter = RecursiveCharacterTextSplitter(chunk_size=1000, chunk_overlap=50)\n",
    "# Split your docs into texts\n",
    "texts = text_splitter.split_documents(data)\n",
    "\n",
    "embeddings = OpenAIEmbeddings(openai_api_key=os.environ['OPENAI_API_KEY'])\n",
    "docsearch = FAISS.from_documents(texts, embeddings)"
   ]
  },
  {
   "cell_type": "markdown",
   "id": "dc6220bf",
   "metadata": {},
   "source": [
    "### 1.3 Using `RetrievalQA` to do question the documents"
   ]
  },
  {
   "cell_type": "markdown",
   "id": "c4c1af85",
   "metadata": {},
   "source": [
    "#### a. Creating the qa"
   ]
  },
  {
   "cell_type": "code",
   "execution_count": 10,
   "id": "53e73071",
   "metadata": {
    "scrolled": true
   },
   "outputs": [],
   "source": [
    "chat_qa = RetrievalQA.from_chain_type(\n",
    "    llm=ChatOpenAI(model_name='gpt-3.5-turbo'), chain_type=\"stuff\", retriever=docsearch.as_retriever()\n",
    ")"
   ]
  },
  {
   "cell_type": "code",
   "execution_count": 11,
   "id": "6ed53025",
   "metadata": {},
   "outputs": [],
   "source": [
    "simple_llm_qa = RetrievalQA.from_chain_type(\n",
    "    llm=OpenAI(), chain_type=\"stuff\", retriever=docsearch.as_retriever()\n",
    ")"
   ]
  },
  {
   "cell_type": "markdown",
   "id": "ebb43078",
   "metadata": {},
   "source": [
    "#### b. Asking questions"
   ]
  },
  {
   "cell_type": "code",
   "execution_count": 12,
   "id": "5dcd7e34",
   "metadata": {},
   "outputs": [
    {
     "data": {
      "text/plain": [
       "' Track Touch.'"
      ]
     },
     "execution_count": 12,
     "metadata": {},
     "output_type": "execute_result"
    }
   ],
   "source": [
    "query1 = \"If I want to practice my hand-eye coordination, what's the name of the content should I look for?\"\n",
    "simple_llm_qa.run(query1)"
   ]
  },
  {
   "cell_type": "code",
   "execution_count": 13,
   "id": "46b93413",
   "metadata": {},
   "outputs": [
    {
     "data": {
      "text/plain": [
       "\" Relaxation Race; Relax your mind to increase your car's speed!\""
      ]
     },
     "execution_count": 13,
     "metadata": {},
     "output_type": "execute_result"
    }
   ],
   "source": [
    "query2 = \"If I want to take a break and enjoy some racing, what game should I look for?\"\n",
    "simple_llm_qa.run(query2)"
   ]
  },
  {
   "cell_type": "markdown",
   "id": "15ed5918",
   "metadata": {},
   "source": [
    "#### c. Asking questions, but using ChatModels"
   ]
  },
  {
   "cell_type": "markdown",
   "id": "f8e4a9e5",
   "metadata": {},
   "source": [
    "Using `ChatOpenAI` instead of `OpenAI`, this gives much richer output"
   ]
  },
  {
   "cell_type": "code",
   "execution_count": 14,
   "id": "19d42917",
   "metadata": {},
   "outputs": [
    {
     "data": {
      "text/plain": [
       "'You should look for the content named \"Track Touch\" to practice your hand-eye coordination.'"
      ]
     },
     "execution_count": 14,
     "metadata": {},
     "output_type": "execute_result"
    }
   ],
   "source": [
    "query1 = \"If I want to practice my hand-eye coordination, what content should I look for?\"\n",
    "chat_qa.run(query1)"
   ]
  },
  {
   "cell_type": "code",
   "execution_count": 82,
   "id": "4e49b394",
   "metadata": {},
   "outputs": [
    {
     "data": {
      "text/plain": [
       "\"Based on the context provided, it looks like the content with internal_id GC004 is a relaxation race game that you can play to relax your mind and increase your car's speed. So, you can look for the game with internal_id GC004.\""
      ]
     },
     "execution_count": 82,
     "metadata": {},
     "output_type": "execute_result"
    }
   ],
   "source": [
    "query2 = \"If I want to take a break and enjoy some racing, what game should I look for?\"\n",
    "chat_qa.run(query2)"
   ]
  },
  {
   "cell_type": "markdown",
   "id": "10489414",
   "metadata": {},
   "source": [
    "### 1.4 Using `ConversationalRetrievalChain` to achieve chat with history"
   ]
  },
  {
   "cell_type": "code",
   "execution_count": 15,
   "id": "01d430f2",
   "metadata": {},
   "outputs": [],
   "source": [
    "from langchain.embeddings.openai import OpenAIEmbeddings\n",
    "from langchain.vectorstores import Chroma\n",
    "from langchain.text_splitter import CharacterTextSplitter\n",
    "from langchain.llms import OpenAI\n",
    "from langchain.chains import ConversationalRetrievalChain"
   ]
  },
  {
   "cell_type": "markdown",
   "id": "c302a231",
   "metadata": {},
   "source": [
    "#### Creating memmory object"
   ]
  },
  {
   "cell_type": "code",
   "execution_count": 16,
   "id": "5bf18126",
   "metadata": {},
   "outputs": [],
   "source": [
    "from langchain.memory import ConversationBufferMemory\n",
    "memory = ConversationBufferMemory(memory_key=\"chat_history\", return_messages=True)"
   ]
  },
  {
   "cell_type": "markdown",
   "id": "c4f7d915",
   "metadata": {},
   "source": [
    "#### Initialize the chain with memory"
   ]
  },
  {
   "cell_type": "code",
   "execution_count": 17,
   "id": "4a9dc7f2",
   "metadata": {},
   "outputs": [],
   "source": [
    "qa = ConversationalRetrievalChain.from_llm(OpenAI(temperature=0), docsearch.as_retriever(), memory=memory)"
   ]
  },
  {
   "cell_type": "code",
   "execution_count": 18,
   "id": "e97ea46c",
   "metadata": {},
   "outputs": [
    {
     "name": "stdout",
     "output_type": "stream",
     "text": [
      " Track Touch; Practice your hand-eye coordination by touching the moving shapes on screen as quickly as you can. The more relaxed you are, the easier they are to catch.\n"
     ]
    }
   ],
   "source": [
    "query1 = \"If I want to practice my hand-eye coordination, what content should I look for?\"\n",
    "result = qa({'question': query1})\n",
    "print(result['answer'])"
   ]
  },
  {
   "cell_type": "code",
   "execution_count": 19,
   "id": "9ba4d670",
   "metadata": {},
   "outputs": [
    {
     "name": "stdout",
     "output_type": "stream",
     "text": [
      "result object: {'question': 'If I want to take a break and enjoy some racing, what game should I look for?', 'chat_history': [HumanMessage(content='If I want to practice my hand-eye coordination, what content should I look for?', additional_kwargs={}), AIMessage(content=' Track Touch; Practice your hand-eye coordination by touching the moving shapes on screen as quickly as you can. The more relaxed you are, the easier they are to catch.', additional_kwargs={}), HumanMessage(content='If I want to take a break and enjoy some racing, what game should I look for?', additional_kwargs={}), AIMessage(content=\" Relaxation Race; Relax your mind to increase your car's speed!\", additional_kwargs={})], 'answer': \" Relaxation Race; Relax your mind to increase your car's speed!\"}\n",
      " Relaxation Race; Relax your mind to increase your car's speed!\n"
     ]
    }
   ],
   "source": [
    "query2 = \"If I want to take a break and enjoy some racing, what game should I look for?\"\n",
    "result = qa({'question': query2})\n",
    "print(f'result object: {result}')\n",
    "print(result['answer'])"
   ]
  },
  {
   "cell_type": "code",
   "execution_count": 20,
   "id": "11e42f28",
   "metadata": {},
   "outputs": [
    {
     "name": "stdout",
     "output_type": "stream",
     "text": [
      " Wake-up Wellness, Awareness Meditation, and Daily Challenge.\n",
      " Wake-up Wellness, Awareness Meditation, and Daily Challenge.\n",
      " Wake-up Wellness, Evening Wind Down, and Daily Challenge.\n",
      " Wake-up Wellness, Evening Wind Down, and Daily Challenge.\n"
     ]
    }
   ],
   "source": [
    "# Execute the chain for 5 times to eliminate the randomness\n",
    "for i in range(1,5):\n",
    "    query3 = \"What are some other content names that are tagged with 'Wellness', list at least 3?\"\n",
    "    result = qa({'question': query3})\n",
    "    print(result['answer'])"
   ]
  },
  {
   "cell_type": "markdown",
   "id": "afb72df0",
   "metadata": {},
   "source": [
    "#### Questions and answers with sources"
   ]
  },
  {
   "cell_type": "code",
   "execution_count": 21,
   "id": "4c91e33f",
   "metadata": {},
   "outputs": [],
   "source": [
    "from langchain.chains.llm import LLMChain\n",
    "from langchain.chains.conversational_retrieval.prompts import CONDENSE_QUESTION_PROMPT\n",
    "from langchain.chains.qa_with_sources import load_qa_with_sources_chain"
   ]
  },
  {
   "cell_type": "code",
   "execution_count": 22,
   "id": "96d8b86e",
   "metadata": {},
   "outputs": [],
   "source": [
    "llm = OpenAI(temperature=0)\n",
    "question_generator = LLMChain(llm=llm, prompt=CONDENSE_QUESTION_PROMPT)\n",
    "memory = ConversationBufferMemory(memory_key=\"chat_history\", return_messages=True)\n",
    "doc_chain = load_qa_with_sources_chain(llm, chain_type=\"map_reduce\")\n"
   ]
  },
  {
   "cell_type": "markdown",
   "id": "487e7fb7",
   "metadata": {},
   "source": [
    "Please note, we are using `map_reduce` as the chain_type here. Different from `stuff` chain, `map_reduce` chains are a type of document chain that can be used in the `ConversationalRetrievalChain`. They are used to combine multiple documents into a single document that can be used for question answering. They are useful when you have a large number of documents that need to be combined into a single document for question answering. We are going to ask some questions that will require the LLM to combine multiple sources to form an answer."
   ]
  },
  {
   "cell_type": "code",
   "execution_count": 23,
   "id": "e14235fa",
   "metadata": {},
   "outputs": [
    {
     "name": "stdout",
     "output_type": "stream",
     "text": [
      "input_variables=['chat_history', 'question'] output_parser=None partial_variables={} template='Given the following conversation and a follow up question, rephrase the follow up question to be a standalone question.\\n\\nChat History:\\n{chat_history}\\nFollow Up Input: {question}\\nStandalone question:' template_format='f-string' validate_template=True\n"
     ]
    }
   ],
   "source": [
    "print(question_generator.prompt)"
   ]
  },
  {
   "cell_type": "code",
   "execution_count": 24,
   "id": "5b4b8b97",
   "metadata": {},
   "outputs": [],
   "source": [
    "qa_with_source = ConversationalRetrievalChain(\n",
    "    retriever=docsearch.as_retriever(),\n",
    "    question_generator=question_generator,\n",
    "    combine_docs_chain=doc_chain,\n",
    "    memory=memory\n",
    ")"
   ]
  },
  {
   "cell_type": "code",
   "execution_count": 25,
   "id": "8a6949b2",
   "metadata": {},
   "outputs": [],
   "source": [
    "query3 = \"What are the content tags for Finding Productivity\"\n",
    "result = qa_with_source({'question': query3})"
   ]
  },
  {
   "cell_type": "code",
   "execution_count": 27,
   "id": "43c91452",
   "metadata": {},
   "outputs": [
    {
     "name": "stdout",
     "output_type": "stream",
     "text": [
      " The content tags for Finding Productivity are Performance, Wellness, Mental Flexibility, Visualization, Self-awareness, Mindfulness, Calm, Consistency, Learn, and Attention Sustained.\n",
      "SOURCES: MG029\n"
     ]
    }
   ],
   "source": [
    "print(result['answer'])"
   ]
  },
  {
   "cell_type": "markdown",
   "id": "a5825926",
   "metadata": {},
   "source": [
    "Now let's ask a question which require some extensive searching, this is when `map_reduce` chain comes handy."
   ]
  },
  {
   "cell_type": "code",
   "execution_count": 30,
   "id": "e80008f3",
   "metadata": {},
   "outputs": [],
   "source": [
    "query4 = \"What are some other content names that are tagged with 'Wellness', list at least 3?\"\n",
    "result = qa_with_source({'question': query4})"
   ]
  },
  {
   "cell_type": "code",
   "execution_count": 31,
   "id": "97a6eba3",
   "metadata": {
    "scrolled": false
   },
   "outputs": [
    {
     "name": "stdout",
     "output_type": "stream",
     "text": [
      " Self-awareness, Calm, Consistency.\n",
      "SOURCES: PG001, MG004, MG029, PG007\n"
     ]
    }
   ],
   "source": [
    "print(result['answer'])"
   ]
  },
  {
   "cell_type": "code",
   "execution_count": 34,
   "id": "adad345b",
   "metadata": {},
   "outputs": [
    {
     "name": "stdout",
     "output_type": "stream",
     "text": [
      " Awareness Meditation, Breathwork, and Mindfulness are content names to look for if you want to become more mindful.\n",
      "SOURCES: MG003, MG004, MG005, MG028\n"
     ]
    }
   ],
   "source": [
    "query5 = \"If I want my self to be more mindful, what contents should I look for, what are the content names?\"\n",
    "result = qa_with_source({'question': query5})\n",
    "print(result['answer'])"
   ]
  },
  {
   "cell_type": "code",
   "execution_count": null,
   "id": "93e46433",
   "metadata": {},
   "outputs": [],
   "source": []
  }
 ],
 "metadata": {
  "kernelspec": {
   "display_name": "venv",
   "language": "python",
   "name": "venv"
  },
  "language_info": {
   "codemirror_mode": {
    "name": "ipython",
    "version": 3
   },
   "file_extension": ".py",
   "mimetype": "text/x-python",
   "name": "python",
   "nbconvert_exporter": "python",
   "pygments_lexer": "ipython3",
   "version": "3.8.7"
  }
 },
 "nbformat": 4,
 "nbformat_minor": 5
}
